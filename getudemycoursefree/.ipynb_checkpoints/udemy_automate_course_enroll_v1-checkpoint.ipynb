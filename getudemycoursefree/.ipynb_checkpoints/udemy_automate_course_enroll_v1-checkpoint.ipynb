{
 "cells": [
  {
   "cell_type": "markdown",
   "metadata": {
    "colab_type": "text",
    "id": "9HTOMT4fTEyL"
   },
   "source": [
    "# **Get Paid Udemy Courses for Free with this Python Script!**"
   ]
  },
  {
   "cell_type": "markdown",
   "metadata": {
    "colab_type": "text",
    "id": "-9RgdGPEREBr"
   },
   "source": [
    "## **Install the necessary dependencies before running the code**\n",
    "---\n",
    "\n",
    "\n",
    "Requests module for Python:\n",
    "> pip install requests\n",
    "\n",
    "BeautifulSoup Web-Scraping Library for Python:\n",
    "> pip install pip install beautifulsoup4\n",
    "\n",
    "Selenium Browser Automation Tool  for Python:\n",
    "> pip install selenium\n",
    "\n",
    "Required Python version:\n",
    "> Python 3.8\n",
    "\n",
    "A webdriver for the browser of your choice:\n",
    ">[Edge](https://developer.microsoft.com/en-us/microsoft-edge/tools/webdriver/), [Chrome](https://chromedriver.chromium.org/), [Firefox](https://github.com/mozilla/geckodriver/releases), etc. (Make sure that the driver version matches your browser)"
   ]
  },
  {
   "cell_type": "code",
   "execution_count": 1,
   "metadata": {},
   "outputs": [
    {
     "name": "stdout",
     "output_type": "stream",
     "text": [
      "Requirement already satisfied: requests in c:\\users\\raviverma\\appdata\\local\\programs\\python\\python37\\lib\\site-packages (2.24.0)\n",
      "Requirement already satisfied: urllib3!=1.25.0,!=1.25.1,<1.26,>=1.21.1 in c:\\users\\raviverma\\appdata\\local\\programs\\python\\python37\\lib\\site-packages (from requests) (1.25.10)\n",
      "Requirement already satisfied: chardet<4,>=3.0.2 in c:\\users\\raviverma\\appdata\\local\\programs\\python\\python37\\lib\\site-packages (from requests) (3.0.4)\n",
      "Requirement already satisfied: certifi>=2017.4.17 in c:\\users\\raviverma\\appdata\\local\\programs\\python\\python37\\lib\\site-packages (from requests) (2020.6.20)\n",
      "Requirement already satisfied: idna<3,>=2.5 in c:\\users\\raviverma\\appdata\\local\\programs\\python\\python37\\lib\\site-packages (from requests) (2.10)\n",
      "Note: you may need to restart the kernel to use updated packages.\n"
     ]
    },
    {
     "name": "stderr",
     "output_type": "stream",
     "text": [
      "WARNING: You are using pip version 20.3.3; however, version 21.1.2 is available.\n",
      "You should consider upgrading via the 'c:\\users\\raviverma\\appdata\\local\\programs\\python\\python37\\python.exe -m pip install --upgrade pip' command.\n"
     ]
    }
   ],
   "source": [
    "pip install requests"
   ]
  },
  {
   "cell_type": "code",
   "execution_count": 2,
   "metadata": {},
   "outputs": [
    {
     "name": "stdout",
     "output_type": "stream",
     "text": [
      "Requirement already satisfied: pip in c:\\users\\raviverma\\appdata\\local\\programs\\python\\python37\\lib\\site-packages (20.3.3)\n",
      "Requirement already satisfied: install in c:\\users\\raviverma\\appdata\\local\\programs\\python\\python37\\lib\\site-packages (1.3.4)\n",
      "Requirement already satisfied: beautifulsoup4 in c:\\users\\raviverma\\appdata\\local\\programs\\python\\python37\\lib\\site-packages (4.9.3)\n",
      "Requirement already satisfied: soupsieve>1.2 in c:\\users\\raviverma\\appdata\\local\\programs\\python\\python37\\lib\\site-packages (from beautifulsoup4) (2.2.1)\n",
      "Note: you may need to restart the kernel to use updated packages.\n"
     ]
    },
    {
     "name": "stderr",
     "output_type": "stream",
     "text": [
      "WARNING: You are using pip version 20.3.3; however, version 21.1.2 is available.\n",
      "You should consider upgrading via the 'c:\\users\\raviverma\\appdata\\local\\programs\\python\\python37\\python.exe -m pip install --upgrade pip' command.\n"
     ]
    }
   ],
   "source": [
    "pip install pip install beautifulsoup4"
   ]
  },
  {
   "cell_type": "code",
   "execution_count": 3,
   "metadata": {},
   "outputs": [
    {
     "name": "stdout",
     "output_type": "stream",
     "text": [
      "Requirement already satisfied: selenium in c:\\users\\raviverma\\appdata\\local\\programs\\python\\python37\\lib\\site-packages (3.141.0)\n",
      "Requirement already satisfied: urllib3 in c:\\users\\raviverma\\appdata\\local\\programs\\python\\python37\\lib\\site-packages (from selenium) (1.25.10)\n",
      "Note: you may need to restart the kernel to use updated packages.\n"
     ]
    },
    {
     "name": "stderr",
     "output_type": "stream",
     "text": [
      "WARNING: You are using pip version 20.3.3; however, version 21.1.2 is available.\n",
      "You should consider upgrading via the 'c:\\users\\raviverma\\appdata\\local\\programs\\python\\python37\\python.exe -m pip install --upgrade pip' command.\n"
     ]
    }
   ],
   "source": [
    "pip install selenium"
   ]
  },
  {
   "cell_type": "code",
   "execution_count": 4,
   "metadata": {
    "colab": {},
    "colab_type": "code",
    "id": "ApjFsUCMNeLI"
   },
   "outputs": [],
   "source": [
    "from bs4 import BeautifulSoup\n",
    "import requests\n",
    "from selenium import webdriver\n",
    "from selenium.common.exceptions import TimeoutException\n",
    "from selenium.webdriver.support.ui import WebDriverWait\n",
    "from selenium.webdriver.support import expected_conditions as EC\n",
    "from selenium.webdriver.common.by import By\n",
    "from selenium.common.exceptions import NoSuchElementException\n",
    "import time"
   ]
  },
  {
   "cell_type": "markdown",
   "metadata": {
    "colab_type": "text",
    "id": "eI_wup7jOYBT"
   },
   "source": [
    "### **Enter your Udemy Credentials below:**"
   ]
  },
  {
   "cell_type": "code",
   "execution_count": 5,
   "metadata": {
    "colab": {},
    "colab_type": "code",
    "id": "uIFE89SONj2J"
   },
   "outputs": [],
   "source": [
    "email=\"ravi.verma278@gmail.com\"\n",
    "password=\"\""
   ]
  },
  {
   "cell_type": "markdown",
   "metadata": {
    "colab_type": "text",
    "id": "p2L8sTG5Ok4G"
   },
   "source": [
    "### **Enter the path/location of your webdriver**\n",
    "By default, the webdriver for Microsoft Edge browser has been chosen in the code below.\n",
    "\n",
    "Also, enter the location of your webdriver.\n"
   ]
  },
  {
   "cell_type": "code",
   "execution_count": 8,
   "metadata": {
    "colab": {},
    "colab_type": "code",
    "id": "TeQyKk8QNwrs"
   },
   "outputs": [],
   "source": [
    "path = \"C:\\\\Users\\\\RaviVerma\\\\Desktop\\\\personal\\\\udemyfree\\\\edgedriver_win64\\\\msedgedriver.exe\" #Enter this string with the path for your webdriver\n",
    "driver = webdriver.Edge(path)"
   ]
  },
  {
   "cell_type": "code",
   "execution_count": 9,
   "metadata": {
    "colab": {},
    "colab_type": "code",
    "id": "zexH4WoFPyup"
   },
   "outputs": [],
   "source": [
    "driver.maximize_window()  #Maximizes the browser window since Udemy has a responsive design and the code only works in the maximized layout"
   ]
  },
  {
   "cell_type": "code",
   "execution_count": 10,
   "metadata": {
    "colab": {},
    "colab_type": "code",
    "id": "JO1xjFVDN2Qk"
   },
   "outputs": [],
   "source": [
    "def getUdemyLink(url):\n",
    "    response = requests.get(\n",
    "    url = url\n",
    "    )\n",
    "\n",
    "    soup = BeautifulSoup(response.content,'html.parser')\n",
    "\n",
    "    linkForUdemy = soup.find('span', class_=\"rh_button_wrapper\").find('a').get('href')\n",
    "\n",
    "    return linkForUdemy"
   ]
  },
  {
   "cell_type": "code",
   "execution_count": 11,
   "metadata": {
    "colab": {},
    "colab_type": "code",
    "id": "nTrQNt59N7t7"
   },
   "outputs": [],
   "source": [
    "def getTutorialBarLinks(url):\n",
    "    response = requests.get(\n",
    "    url = url\n",
    "    )\n",
    "\n",
    "    soup = BeautifulSoup(response.content,'html.parser')\n",
    "\n",
    "\n",
    "    links = soup.find('div', class_=\"rh-post-wrapper\").find_all('a')\n",
    "    #print(links)\n",
    "\n",
    "    courses=[]\n",
    "\n",
    "    x=0\n",
    "    for i in range(12):\n",
    "        courses.append(links[x].get('href'))\n",
    "        x=x+3\n",
    "\n",
    "    return courses"
   ]
  },
  {
   "cell_type": "code",
   "execution_count": 12,
   "metadata": {
    "colab": {},
    "colab_type": "code",
    "id": "e-n0u0lrN8ev"
   },
   "outputs": [],
   "source": [
    "def udemyLogin(email_text,password_text):\n",
    "    \n",
    "    driver.get(\"https://www.udemy.com/join/login-popup/\")\n",
    "\n",
    "    email = driver.find_element_by_name(\"email\")\n",
    "    password = driver.find_element_by_name(\"password\")\n",
    "\n",
    "    email.send_keys(email_text)\n",
    "    password.send_keys(password_text)\n",
    "\n",
    "    driver.find_element_by_name(\"submit\").click()"
   ]
  },
  {
   "cell_type": "code",
   "execution_count": 13,
   "metadata": {
    "colab": {},
    "colab_type": "code",
    "id": "o8FMa4szOBvZ"
   },
   "outputs": [],
   "source": [
    "def redeemUdemyCourse(url):\n",
    "\n",
    "    driver.get(url)\n",
    "    print(\"Trying to Enroll for: \" + driver.title)\n",
    "    \n",
    "    #Enroll Now 1\n",
    "    element_present = EC.presence_of_element_located((By.XPATH, \"//button[@data-purpose='buy-this-course-button']\"))\n",
    "    WebDriverWait(driver, 10).until(element_present)\n",
    "\n",
    "    udemyEnroll = driver.find_element_by_xpath(\"//button[@data-purpose='buy-this-course-button']\") #Udemy\n",
    "    udemyEnroll.click()\n",
    "\n",
    "    #Enroll Now 2\n",
    "    element_present = EC.presence_of_element_located((By.XPATH, \"//*[@id=\\\"udemy\\\"]/div[1]/div[2]/div/div/div/div[2]/form/div[2]/div/div[4]/button\"))\n",
    "    WebDriverWait(driver, 10).until(element_present)\n",
    "\n",
    "    udemyEnroll = driver.find_element_by_xpath(\"//*[@id=\\\"udemy\\\"]/div[1]/div[2]/div/div/div/div[2]/form/div[2]/div/div[4]/button\") #Udemy\n",
    "    udemyEnroll.click()"
   ]
  },
  {
   "cell_type": "code",
   "execution_count": 14,
   "metadata": {
    "colab": {},
    "colab_type": "code",
    "id": "hnR8ZQ7lOFJW"
   },
   "outputs": [],
   "source": [
    "def main_function():\n",
    "\n",
    "    page = 1  #Change the page number here only if necessary, else ignore\n",
    "\n",
    "    loop_run_count = 0\n",
    "\n",
    "    while True:\n",
    "\n",
    "        print(\"Please Wait: Getting the course list from tutorialbar.com...\")\n",
    "        print(\"Page: \"+str(page)+\", Loop run count: \"+str(loop_run_count))\n",
    "\n",
    "        url=\"https://www.tutorialbar.com/all-courses/\"+\"page/\"+str(page)+\"/\"\n",
    "        courses=getTutorialBarLinks(url)\n",
    "        \n",
    "        udemyLinks=[]\n",
    "        linkCounter=0\n",
    "        \n",
    "        for course in courses:\n",
    "            \n",
    "            udemyLinks.append(getUdemyLink(course))\n",
    "            print(\"Received Link \" + str(linkCounter+1) + \": \"+udemyLinks[linkCounter])\n",
    "            linkCounter=linkCounter+1\n",
    "\n",
    "        if loop_run_count == 0:\n",
    "            \n",
    "            udemyLogin(email,password)\n",
    "\n",
    "        for link in udemyLinks:\n",
    "            try:\n",
    "                redeemUdemyCourse(link)\n",
    "            except BaseException as e:\n",
    "                print(\"Unable to enroll for this course either because you have already claimed it or the browser window has been closed!\")\n",
    "\n",
    "        page = page + 1\n",
    "        loop_run_count = loop_run_count + 1\n",
    "        \n",
    "        print(\"Moving on to the next page of the course list on tutorialbar.com\")\n"
   ]
  },
  {
   "cell_type": "code",
   "execution_count": null,
   "metadata": {
    "colab": {},
    "colab_type": "code",
    "id": "PGQ0P7BxOJi1"
   },
   "outputs": [
    {
     "name": "stdout",
     "output_type": "stream",
     "text": [
      "Please Wait: Getting the course list from tutorialbar.com...\n",
      "Page: 1, Loop run count: 0\n",
      "Received Link 1: https://www.udemy.com/course/the-pursuit-of-happiness-how-to-be-happier-in-life-101/?couponCode=F5C2F9B63F9C0817DB79\n",
      "Received Link 2: https://www.udemy.com/course/ecommercemasterclass/?couponCode=FREEFORALL\n",
      "Received Link 3: https://www.udemy.com/course/the-pinterest-marketing-guide-for-creatives/?couponCode=FREEPINTEREST3DAYS\n",
      "Received Link 4: https://www.udemy.com/course/tallyprimewithgst/?couponCode=GETTALLYPRIMEFREE\n",
      "Received Link 5: https://www.udemy.com/course/mindfulness-based-art-the-mindful-mandala-drawing-course/?couponCode=FREEMANDALAMINDFUL\n",
      "Received Link 6: https://www.udemy.com/course/complete-microsoft-word-lessons/?couponCode=TRICKYMAN\n",
      "Received Link 7: https://www.udemy.com/course/2-saatte-wordpress-ile-para-kazanmayi-ogren/?couponCode=MUSTAFA\n",
      "Received Link 8: https://www.udemy.com/course/cost-management/?couponCode=E79CD08224D2845AC065\n",
      "Received Link 9: https://www.udemy.com/course/pmp-prep-arabic/?couponCode=E9C14AC79C051ADCE685\n",
      "Received Link 10: https://www.udemy.com/course/practical-project-in-python-and-qml3/?couponCode=6C5861CA10A453A54782\n",
      "Received Link 11: https://www.udemy.com/course/software-development-in-python-a-practical-approach/?couponCode=F73EFCCBEDEE2CC2A990\n",
      "Received Link 12: https://www.udemy.com/course/atlassian-confluence-masterclass/?couponCode=FRCONJUN\n",
      "Trying to Enroll for: The Pursuit of Happiness! - How to Be Happier in Life 101! | Udemy\n",
      "Unable to enroll for this course either because you have already claimed it or the browser window has been closed!\n",
      "Trying to Enroll for: eCommerce Student Academy: Learn eBay, Etsy & Alibaba Course | Udemy\n",
      "Unable to enroll for this course either because you have already claimed it or the browser window has been closed!\n",
      "Trying to Enroll for: The Pinterest Marketing Guide for Creatives | Udemy\n",
      "Unable to enroll for this course either because you have already claimed it or the browser window has been closed!\n",
      "Trying to Enroll for: Tally Prime Erp +GST 2021 : Certificate Course | Udemy\n",
      "Unable to enroll for this course either because you have already claimed it or the browser window has been closed!\n",
      "Trying to Enroll for: Mindfulness based Art:The Mindfulness Mandala Drawing Course | Udemy\n",
      "Unable to enroll for this course either because you have already claimed it or the browser window has been closed!\n",
      "Trying to Enroll for: Certified Microsoft word complete course | Udemy\n",
      "Unable to enroll for this course either because you have already claimed it or the browser window has been closed!\n",
      "Trying to Enroll for: 2 Saatte Wordpress İle Para Kazanmayı Öğren | Udemy\n",
      "Unable to enroll for this course either because you have already claimed it or the browser window has been closed!\n",
      "Trying to Enroll for: Projects Cost Management, Estimating, Budgeting and Control. | Udemy\n",
      "Unable to enroll for this course either because you have already claimed it or the browser window has been closed!\n",
      "Trying to Enroll for: دورة إدارة المشاريع الاحترافية بالعربي PMP Prep. Arabic | Udemy\n",
      "Unable to enroll for this course either because you have already claimed it or the browser window has been closed!\n",
      "Trying to Enroll for: Python GUI | Project in Python: Build a Sign In system | Udemy\n",
      "Unable to enroll for this course either because you have already claimed it or the browser window has been closed!\n",
      "Trying to Enroll for: Software development in Python: A practical approach | Udemy\n",
      "Unable to enroll for this course either because you have already claimed it or the browser window has been closed!\n",
      "Trying to Enroll for: Atlassian Confluence Masterclass for Project Managers | Udemy\n",
      "Unable to enroll for this course either because you have already claimed it or the browser window has been closed!\n",
      "Moving on to the next page of the course list on tutorialbar.com\n",
      "Please Wait: Getting the course list from tutorialbar.com...\n",
      "Page: 2, Loop run count: 1\n",
      "Received Link 1: https://www.udemy.com/course/hr-analytics-using-excel/?couponCode=FREHRAJUN\n",
      "Received Link 2: https://www.udemy.com/course/html-css-certification-course-for-beginners-e/?couponCode=C79CDCC256C8B40456\n",
      "Received Link 3: https://bit.ly/3zKAu8e\n",
      "Received Link 4: https://www.udemy.com/course/matlab-for-people-in-hurry/?couponCode=FREE-MATLAB\n",
      "Received Link 5: https://www.udemy.com/course/java-programming-fundamental/?couponCode=LEARNBASICJAVA\n",
      "Received Link 6: https://www.udemy.com/course/hz-instagram-business-mastery-2021/?couponCode=433F1A18B2E79DC34D44\n",
      "Received Link 7: https://www.udemy.com/course/terrazas/?couponCode=15INSCRIPCIONES\n",
      "Received Link 8: https://www.udemy.com/course/gimnasios/?couponCode=15INSCRIPCIONES\n",
      "Received Link 9: https://www.udemy.com/course/electronics-diode-a-thorough-understanding-part-1/?couponCode=83AAB07A9F4B20622512\n",
      "Received Link 10: https://www.udemy.com/course/cpu-mining-on-android-device-mine-crypto-and-monero-xmr/?couponCode=MININGONANDROID\n",
      "Received Link 11: https://www.udemy.com/course/learn-basics-of-adobe-after-effects-cc-for-beginners-learn/?couponCode=EFB95C7C73F09F8F12E6\n",
      "Received Link 12: https://www.udemy.com/course/gamsoptimization/?couponCode=9F7059B10B1891D93EEE\n",
      "Trying to Enroll for: HR Analytics using MS Excel for Human Resource Management | Udemy\n",
      "Unable to enroll for this course either because you have already claimed it or the browser window has been closed!\n",
      "Trying to Enroll for: HTML & CSS - Certification Course for Beginners | Udemy\n",
      "Unable to enroll for this course either because you have already claimed it or the browser window has been closed!\n",
      "Trying to Enroll for: \n",
      "Unable to enroll for this course either because you have already claimed it or the browser window has been closed!\n",
      "Trying to Enroll for: MATLAB For People in Hurry | Udemy\n",
      "Unable to enroll for this course either because you have already claimed it or the browser window has been closed!\n",
      "Trying to Enroll for: Java Programming Fundamentals | Udemy\n",
      "Unable to enroll for this course either because you have already claimed it or the browser window has been closed!\n",
      "Trying to Enroll for: Instagram Business Mastery 2021 | Udemy\n",
      "Unable to enroll for this course either because you have already claimed it or the browser window has been closed!\n",
      "Trying to Enroll for: EXPERTO en Diseño de Terrazas y Pequeños Jardines Domésticos | Udemy\n",
      "Unable to enroll for this course either because you have already claimed it or the browser window has been closed!\n",
      "Trying to Enroll for: Experto en Diseño de Espacios Deportivos y Gimnasios | Udemy\n",
      "Unable to enroll for this course either because you have already claimed it or the browser window has been closed!\n",
      "Trying to Enroll for: Electronics : Diode (Part 1) - A Solid State Approach | Udemy\n",
      "Unable to enroll for this course either because you have already claimed it or the browser window has been closed!\n",
      "Trying to Enroll for: CPU Mining on Android Device - Mine Crypto and Monero XMR | Udemy\n",
      "Unable to enroll for this course either because you have already claimed it or the browser window has been closed!\n",
      "Trying to Enroll for: Learn Basics Of Adobe After Effects CC 2021 for Beginners | Udemy\n",
      "Unable to enroll for this course either because you have already claimed it or the browser window has been closed!\n",
      "Trying to Enroll for: Complete guide to Modern Mathematical Optimization in GAMS | Udemy\n",
      "Unable to enroll for this course either because you have already claimed it or the browser window has been closed!\n",
      "Moving on to the next page of the course list on tutorialbar.com\n",
      "Please Wait: Getting the course list from tutorialbar.com...\n",
      "Page: 3, Loop run count: 2\n",
      "Received Link 1: https://www.udemy.com/course/data-analytics-projects-python/?couponCode=JUNE_OFFER\n",
      "Received Link 2: https://www.udemy.com/course/agile-kanban/?couponCode=KANJUNFR\n",
      "Received Link 3: https://www.udemy.com/course/learn-vhdl-from-the-beginning-for-fpga-and-cpld-development/?couponCode=499BB361E49B7B3FC17F\n",
      "Received Link 4: https://www.udemy.com/course/render-an-isometric-retro-diner/?couponCode=A2DA3964EEFC87BE8469\n",
      "Received Link 5: https://bit.ly/3vMREOZ\n",
      "Received Link 6: https://www.udemy.com/course/introduction-to-cybersecurity-vtowardstechno/?couponCode=2EB694630E1A659E7AEA\n",
      "Received Link 7: https://www.udemy.com/course/google-data-studio-by-starttech/?couponCode=FREGDSJUN\n",
      "Received Link 8: https://www.udemy.com/course/the-complete-sql-masterclass-for-data-analytics/?couponCode=SQLJUNFRE\n",
      "Received Link 9: https://www.udemy.com/course/seo-training-2021/?couponCode=GOODNESS777\n",
      "Received Link 10: https://www.udemy.com/course/learn-photo-editing-with-photoshop-2020/?couponCode=TRY10FREE62106\n",
      "Received Link 11: https://www.udemy.com/course/how-to-deal-with-tough-times/?couponCode=JUNE_FESTIVAL\n",
      "Received Link 12: https://www.udemy.com/course/e-ticaret-sitenizi-kurun-e-ticaret-altyapi-egitimi/?couponCode=UCRETSIZ11\n",
      "Trying to Enroll for: Data Analytics Real-World Projects in Python | Udemy\n",
      "Unable to enroll for this course either because you have already claimed it or the browser window has been closed!\n",
      "Trying to Enroll for: Agile Kanban: Kanban for Software Development Teams | Udemy\n",
      "Unable to enroll for this course either because you have already claimed it or the browser window has been closed!\n",
      "Trying to Enroll for: Learn VHDL from the beginning for FPGA and CPLD development | Udemy\n",
      "Unable to enroll for this course either because you have already claimed it or the browser window has been closed!\n",
      "Trying to Enroll for: Render an Isometric Retro Diner | Udemy\n",
      "Unable to enroll for this course either because you have already claimed it or the browser window has been closed!\n",
      "Trying to Enroll for: \n",
      "Unable to enroll for this course either because you have already claimed it or the browser window has been closed!\n",
      "Trying to Enroll for: Introduction To Cybersecurity | Udemy\n",
      "Unable to enroll for this course either because you have already claimed it or the browser window has been closed!\n",
      "Trying to Enroll for: Google Data Studio A-Z for Data Visualization and Dashboards | Udemy\n",
      "Unable to enroll for this course either because you have already claimed it or the browser window has been closed!\n",
      "Trying to Enroll for: SQL Masterclass: SQL for Data Analytics | Udemy\n",
      "Unable to enroll for this course either because you have already claimed it or the browser window has been closed!\n",
      "Trying to Enroll for: BEST of SEO: #1 SEO Training & Content Marketing Course 2021 | Udemy\n",
      "Unable to enroll for this course either because you have already claimed it or the browser window has been closed!\n",
      "Trying to Enroll for: Adobe Photoshop 2021 - Photo Editing | Udemy\n",
      "Unable to enroll for this course either because you have already claimed it or the browser window has been closed!\n",
      "Unable to enroll for this course either because you have already claimed it or the browser window has been closed!\n",
      "Trying to Enroll for: E-Ticaret Eğitimi (+Altyapı Kullanma Eğitimi Dahil) | Udemy\n",
      "Unable to enroll for this course either because you have already claimed it or the browser window has been closed!\n",
      "Moving on to the next page of the course list on tutorialbar.com\n",
      "Please Wait: Getting the course list from tutorialbar.com...\n",
      "Page: 4, Loop run count: 3\n",
      "Received Link 1: https://www.udemy.com/course/android-mobil-uygulama-adm-adm-android-oreo-ve-pie/?couponCode=OAKACADEMY\n",
      "Received Link 2: https://www.udemy.com/course/invierte-en-acciones-como-las-leyendas-de-wall-street/?couponCode=GRATIS_CURSO_STOCKS\n",
      "Received Link 3: https://www.udemy.com/course/real-estate-institutional-investing/?couponCode=REALESTATE111\n",
      "Received Link 4: https://www.udemy.com/course/color-grading-and-video-editing-with-davinci-resolve/?couponCode=3D9A91274C1D19434DFF\n",
      "Received Link 5: https://www.udemy.com/course/hiring-process-talent-management/?couponCode=JUNE-21\n",
      "Received Link 6: https://www.udemy.com/course/full-stack-programming-for-complete-beginners-in-python/?couponCode=REDDITFREE\n",
      "Received Link 7: https://bit.ly/3wJZjiq\n",
      "Received Link 8: https://www.udemy.com/course/sql-the-complete-introduction-to-sql-programming/?couponCode=9E77F22B3DDD03EAACD2\n",
      "Received Link 9: https://www.udemy.com/course/2021-top-ms-excel-templates-and-dashboards-with-applications/?couponCode=6A368AC098631C726F52\n",
      "Received Link 10: https://www.udemy.com/course/the-complete-english-language-course-improve-spoken-english/?couponCode=JAYGIFT\n",
      "Received Link 11: https://www.udemy.com/course/master-after-effects-tips-tricks/?couponCode=D571FA4E7F769B34031B\n",
      "Received Link 12: https://www.udemy.com/course/remember-more-memory-improvement-techniques/?couponCode=A8AB54AADD953D8D1CE5\n",
      "Trying to Enroll for: Android Mobil Uygulama: Adım Adım Android App Development | Udemy\n",
      "Unable to enroll for this course either because you have already claimed it or the browser window has been closed!\n",
      "Trying to Enroll for: Invierte en acciones como las leyendas de Wall-Street! | Udemy\n",
      "Unable to enroll for this course either because you have already claimed it or the browser window has been closed!\n",
      "Trying to Enroll for: Real Estate Institutional Investing and Fund Management | Udemy\n",
      "Unable to enroll for this course either because you have already claimed it or the browser window has been closed!\n",
      "Trying to Enroll for: Color Grading and Video Editing with Davinci Resolve 17 | Udemy\n",
      "Unable to enroll for this course either because you have already claimed it or the browser window has been closed!\n",
      "Trying to Enroll for: Hiring Process: Talent Management | Udemy\n",
      "Unable to enroll for this course either because you have already claimed it or the browser window has been closed!\n",
      "Trying to Enroll for: Full Stack Programming for Complete Beginners in Python | Udemy\n",
      "Unable to enroll for this course either because you have already claimed it or the browser window has been closed!\n",
      "Trying to Enroll for: \n",
      "Unable to enroll for this course either because you have already claimed it or the browser window has been closed!\n",
      "Trying to Enroll for: SQL- The Complete Introduction to SQL programming | Udemy\n",
      "Unable to enroll for this course either because you have already claimed it or the browser window has been closed!\n",
      "Trying to Enroll for: 2021 TOP MS EXCEL Templates and Dashboards with applications | Udemy\n",
      "Unable to enroll for this course either because you have already claimed it or the browser window has been closed!\n",
      "Trying to Enroll for: The Complete English Language Course Improve Spoken English | Udemy\n",
      "Unable to enroll for this course either because you have already claimed it or the browser window has been closed!\n",
      "Trying to Enroll for: Master After Effects - Tips & Tricks | Udemy\n",
      "Unable to enroll for this course either because you have already claimed it or the browser window has been closed!\n",
      "Trying to Enroll for: Remember More: Memory Improvement Techniques | Udemy\n",
      "Unable to enroll for this course either because you have already claimed it or the browser window has been closed!\n",
      "Moving on to the next page of the course list on tutorialbar.com\n",
      "Please Wait: Getting the course list from tutorialbar.com...\n",
      "Page: 5, Loop run count: 4\n",
      "Received Link 1: https://www.udemy.com/course/4-dhhrml/?couponCode=BE69F0103A402B2F6124\n",
      "Received Link 2: https://www.udemy.com/course/master-in-agile-scrum-complete-training-best-practices/?couponCode=9A4CB74F02A0B88AE17D\n",
      "Received Link 3: https://www.udemy.com/course/ochjnxbm/?couponCode=A13ACE189DE5491ABCCA\n",
      "Received Link 4: https://www.udemy.com/course/publicspeakingarabic/?couponCode=TJPROMO\n",
      "Received Link 5: https://www.udemy.com/course/photo-editing-with-free-software/?couponCode=B91FDAEB11AD5AE4339A\n",
      "Received Link 6: https://www.udemy.com/course/administracion-de-windows-desde-la-consola/?couponCode=77B68F8DE993493EE7FF\n",
      "Received Link 7: https://www.udemy.com/course/learn-html-for-beginners/?couponCode=YOUACCEL38874\n",
      "Received Link 8: https://www.udemy.com/course/learn-css-for-beginners/?couponCode=YOUACCEL38874\n",
      "Received Link 9: https://www.udemy.com/course/learn-javascript-for-beginners-v/?couponCode=YOUACCEL38874\n",
      "Received Link 10: https://www.udemy.com/course/learn-jquery-for-beginners/?couponCode=YOUACCEL38874\n",
      "Received Link 11: https://www.udemy.com/course/learn-bootstrap-for-beginners/?couponCode=YOUACCEL38874\n",
      "Received Link 12: https://www.udemy.com/course/learn-php-for-beginners-n/?couponCode=YOUACCEL38874\n",
      "Trying to Enroll for: تعلم البوتستراب 4 من الصفر | Udemy\n",
      "Unable to enroll for this course either because you have already claimed it or the browser window has been closed!\n",
      "Trying to Enroll for: Master in Agile Scrum : Complete Training & Best Practices | Udemy\n",
      "Unable to enroll for this course either because you have already claimed it or the browser window has been closed!\n",
      "Trying to Enroll for: تعلم جانكو من الصفر | Udemy\n",
      "Unable to enroll for this course either because you have already claimed it or the browser window has been closed!\n",
      "Trying to Enroll for: فن مخاطبة الجمهور وإلقاء الخطابات - للمهندسين | Udemy\n",
      "Unable to enroll for this course either because you have already claimed it or the browser window has been closed!\n",
      "Trying to Enroll for: Photo Editing With Free Software | Udemy\n",
      "Unable to enroll for this course either because you have already claimed it or the browser window has been closed!\n",
      "Trying to Enroll for: Administración de Windows desde la Consola | Udemy\n",
      "Unable to enroll for this course either because you have already claimed it or the browser window has been closed!\n",
      "Trying to Enroll for: Learn HTML - For Beginners | Udemy\n",
      "Unable to enroll for this course either because you have already claimed it or the browser window has been closed!\n",
      "Trying to Enroll for: Learn CSS - For Beginners | Udemy\n",
      "Unable to enroll for this course either because you have already claimed it or the browser window has been closed!\n",
      "Trying to Enroll for: Learn JavaScript - For Beginners | Udemy\n",
      "Unable to enroll for this course either because you have already claimed it or the browser window has been closed!\n",
      "Trying to Enroll for: Learn jQuery - For Beginners | Udemy\n",
      "Unable to enroll for this course either because you have already claimed it or the browser window has been closed!\n",
      "Trying to Enroll for: Learn Bootstrap - For Beginners | Udemy\n",
      "Unable to enroll for this course either because you have already claimed it or the browser window has been closed!\n",
      "Trying to Enroll for: Learn PHP - For Beginners | Udemy\n",
      "Unable to enroll for this course either because you have already claimed it or the browser window has been closed!\n",
      "Moving on to the next page of the course list on tutorialbar.com\n",
      "Please Wait: Getting the course list from tutorialbar.com...\n",
      "Page: 6, Loop run count: 5\n",
      "Received Link 1: https://www.udemy.com/course/learn-mysql-for-beginners/?couponCode=YOUACCEL38874\n",
      "Received Link 2: https://www.udemy.com/course/css3-oxe/?couponCode=7730FB513EB46099116E\n",
      "Received Link 3: https://bit.ly/35zmvUR\n",
      "Received Link 4: https://www.udemy.com/course/html5-rf/?couponCode=74672D545EDB60A31339\n",
      "Received Link 5: https://www.udemy.com/course/excel-kurs/?couponCode=746D0C9F2C7DE35AEA9C\n",
      "Received Link 6: https://www.udemy.com/course/making-future-proof-plans/?couponCode=MFPP-002\n",
      "Received Link 7: https://www.udemy.com/course/work-from-home-job-opportunities/?couponCode=996F8A2FEA4D46257194\n",
      "Received Link 8: https://www.udemy.com/course/statistics-fundamentals-bundled/?couponCode=3388A412A07660273BE9\n",
      "Received Link 9: https://www.udemy.com/course/business-report-writing/?couponCode=0027784F0D9000B55B62\n",
      "Received Link 10: https://www.udemy.com/course/fema-1999-foreign-exchange-regulations-in-india/?couponCode=4C1985B327890F976FBD\n",
      "Received Link 11: https://www.udemy.com/course/gof-design-patterns-learnit/?couponCode=GOF_PATTERNS_2\n",
      "Received Link 12: https://www.udemy.com/course/the-ultimate-canva-master-course-for-beginners-become-an-instagram-pro/?couponCode=FREECANVACOUPON\n",
      "Trying to Enroll for: Learn MySQL - For Beginners | Udemy\n",
      "Unable to enroll for this course either because you have already claimed it or the browser window has been closed!\n",
      "Trying to Enroll for: تعلم CSS3 من الصفر | Udemy\n",
      "Unable to enroll for this course either because you have already claimed it or the browser window has been closed!\n",
      "Trying to Enroll for: \n",
      "Unable to enroll for this course either because you have already claimed it or the browser window has been closed!\n",
      "Trying to Enroll for: تعلم لغة HTML5 من الصفر | Udemy\n",
      "Unable to enroll for this course either because you have already claimed it or the browser window has been closed!\n",
      "Trying to Enroll for: Der Komplette Excel Kurs - Vom Anfänger zum Profi in 40h ! | Udemy\n",
      "Unable to enroll for this course either because you have already claimed it or the browser window has been closed!\n",
      "Trying to Enroll for: Making Future Proof Plans | Udemy\n",
      "Unable to enroll for this course either because you have already claimed it or the browser window has been closed!\n",
      "Trying to Enroll for: Make Money From Home: 45 Work From Home Opportunities | Udemy\n",
      "Unable to enroll for this course either because you have already claimed it or the browser window has been closed!\n",
      "Trying to Enroll for: Statistics Fundamentals: Bundled | Udemy\n",
      "Unable to enroll for this course either because you have already claimed it or the browser window has been closed!\n",
      "Trying to Enroll for: Report Writing: Learn To Write An Analytical Business Report | Udemy\n",
      "Unable to enroll for this course either because you have already claimed it or the browser window has been closed!\n",
      "Trying to Enroll for: FEMA 1999 & Foreign Exchange Regulations In India | Udemy\n",
      "Unable to enroll for this course either because you have already claimed it or the browser window has been closed!\n",
      "Trying to Enroll for: GoF Design Patterns - Complete Course with Java Examples | Udemy\n",
      "Unable to enroll for this course either because you have already claimed it or the browser window has been closed!\n",
      "Trying to Enroll for: The Ultimate Canva Master Course- Become an Instagram Pro | Udemy\n",
      "Unable to enroll for this course either because you have already claimed it or the browser window has been closed!\n",
      "Moving on to the next page of the course list on tutorialbar.com\n",
      "Please Wait: Getting the course list from tutorialbar.com...\n",
      "Page: 7, Loop run count: 6\n",
      "Received Link 1: https://www.udemy.com/course/instagram-for-business-marketing/?couponCode=IGPRO21\n",
      "Received Link 2: https://www.udemy.com/course/fundamentals-of-internal-combustion-engines/?couponCode=FREEJUNE\n",
      "Received Link 3: https://www.udemy.com/course/henry-zhang-amazon-fba-mini-course/?couponCode=66A1845C5B4F600E6C23\n",
      "Received Link 4: https://www.udemy.com/course/learn-teaching-tools-for-effective-on-line-teaching/?couponCode=7848F60326BA750F24B1\n",
      "Received Link 5: https://www.udemy.com/course/mongodb-aprende-desde-cero/?couponCode=MONGODB\n",
      "Received Link 6: https://www.udemy.com/course/blissful-real-estate-investing/?couponCode=BREIEXPJUNE212021\n",
      "Received Link 7: https://www.udemy.com/course/business-success/?couponCode=OBCBSEXPJUNE212021\n",
      "Received Link 8: https://www.udemy.com/course/complete-photography-course/?couponCode=PHOTO9JUNE2021\n",
      "Received Link 9: https://www.udemy.com/course/transform-your-mid-career/?couponCode=FREEJUNE-100\n",
      "Received Link 10: https://www.udemy.com/course/facebook-conversion-ads/?couponCode=DOGOOD777777\n",
      "Received Link 11: https://www.udemy.com/course/videoscribe-whiteboard-animations-masterclass-with-project/?couponCode=D9AA839913EF5CB8A0AB\n",
      "Received Link 12: https://www.udemy.com/course/local-digital-marketing/?couponCode=GOODNESS777\n",
      "Trying to Enroll for: Instagram Marketing 2021 - Strategies & Promotion | Udemy\n",
      "Unable to enroll for this course either because you have already claimed it or the browser window has been closed!\n",
      "Trying to Enroll for: Fundamentals of Internal Combustion Engines | Udemy\n"
     ]
    }
   ],
   "source": [
    "main_function()"
   ]
  }
 ],
 "metadata": {
  "colab": {
   "authorship_tag": "ABX9TyNbAuR4qK+njd9bpK8psVKj",
   "collapsed_sections": [],
   "name": "udemy_automate_course_enroll_v1",
   "provenance": []
  },
  "kernelspec": {
   "display_name": "Python 3",
   "language": "python",
   "name": "python3"
  },
  "language_info": {
   "codemirror_mode": {
    "name": "ipython",
    "version": 3
   },
   "file_extension": ".py",
   "mimetype": "text/x-python",
   "name": "python",
   "nbconvert_exporter": "python",
   "pygments_lexer": "ipython3",
   "version": "3.7.4"
  }
 },
 "nbformat": 4,
 "nbformat_minor": 1
}
