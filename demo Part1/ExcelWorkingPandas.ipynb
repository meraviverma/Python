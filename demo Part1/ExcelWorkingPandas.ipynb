{
 "cells": [
  {
   "cell_type": "markdown",
   "metadata": {},
   "source": [
    "pip install numpy==1.19.3\n",
    "pip install openpyxl"
   ]
  },
  {
   "cell_type": "code",
   "execution_count": 1,
   "metadata": {},
   "outputs": [],
   "source": [
    "import pandas as pd"
   ]
  },
  {
   "cell_type": "code",
   "execution_count": 2,
   "metadata": {},
   "outputs": [],
   "source": [
    "df1 = pd.DataFrame([['a', 3], ['c', 4]],\n",
    "                   index=['row 1', 'row 2'],\n",
    "                   columns=['col 1', 'col 2'])"
   ]
  },
  {
   "cell_type": "code",
   "execution_count": 3,
   "metadata": {},
   "outputs": [],
   "source": [
    "df2 = pd.DataFrame([['a', 5], ['c', 8]],\n",
    "                   index=['row 1', 'row 2'],\n",
    "                   columns=['col 1', 'col 2'])"
   ]
  },
  {
   "cell_type": "code",
   "execution_count": 4,
   "metadata": {},
   "outputs": [
    {
     "data": {
      "text/html": [
       "<div>\n",
       "<style scoped>\n",
       "    .dataframe tbody tr th:only-of-type {\n",
       "        vertical-align: middle;\n",
       "    }\n",
       "\n",
       "    .dataframe tbody tr th {\n",
       "        vertical-align: top;\n",
       "    }\n",
       "\n",
       "    .dataframe thead th {\n",
       "        text-align: right;\n",
       "    }\n",
       "</style>\n",
       "<table border=\"1\" class=\"dataframe\">\n",
       "  <thead>\n",
       "    <tr style=\"text-align: right;\">\n",
       "      <th></th>\n",
       "      <th>col 1</th>\n",
       "      <th>col 2</th>\n",
       "    </tr>\n",
       "  </thead>\n",
       "  <tbody>\n",
       "    <tr>\n",
       "      <th>row 1</th>\n",
       "      <td>a</td>\n",
       "      <td>5</td>\n",
       "    </tr>\n",
       "    <tr>\n",
       "      <th>row 2</th>\n",
       "      <td>c</td>\n",
       "      <td>8</td>\n",
       "    </tr>\n",
       "  </tbody>\n",
       "</table>\n",
       "</div>"
      ],
      "text/plain": [
       "      col 1  col 2\n",
       "row 1     a      5\n",
       "row 2     c      8"
      ]
     },
     "execution_count": 4,
     "metadata": {},
     "output_type": "execute_result"
    }
   ],
   "source": [
    "df2"
   ]
  },
  {
   "cell_type": "code",
   "execution_count": 32,
   "metadata": {},
   "outputs": [],
   "source": [
    "val1_minus_val10 = df1[\"col 2\"] - df2[\"col 2\"]"
   ]
  },
  {
   "cell_type": "code",
   "execution_count": 33,
   "metadata": {},
   "outputs": [
    {
     "data": {
      "text/plain": [
       "row 1   -2\n",
       "row 2   -4\n",
       "Name: col 2, dtype: int64"
      ]
     },
     "execution_count": 33,
     "metadata": {},
     "output_type": "execute_result"
    }
   ],
   "source": [
    "val1_minus_val10"
   ]
  },
  {
   "cell_type": "code",
   "execution_count": 35,
   "metadata": {},
   "outputs": [],
   "source": [
    "df2['diff']=val1_minus_val10"
   ]
  },
  {
   "cell_type": "code",
   "execution_count": 36,
   "metadata": {},
   "outputs": [
    {
     "data": {
      "text/html": [
       "<div>\n",
       "<style scoped>\n",
       "    .dataframe tbody tr th:only-of-type {\n",
       "        vertical-align: middle;\n",
       "    }\n",
       "\n",
       "    .dataframe tbody tr th {\n",
       "        vertical-align: top;\n",
       "    }\n",
       "\n",
       "    .dataframe thead th {\n",
       "        text-align: right;\n",
       "    }\n",
       "</style>\n",
       "<table border=\"1\" class=\"dataframe\">\n",
       "  <thead>\n",
       "    <tr style=\"text-align: right;\">\n",
       "      <th></th>\n",
       "      <th>col 1</th>\n",
       "      <th>col 2</th>\n",
       "      <th>diff</th>\n",
       "    </tr>\n",
       "  </thead>\n",
       "  <tbody>\n",
       "    <tr>\n",
       "      <th>row 1</th>\n",
       "      <td>a</td>\n",
       "      <td>5</td>\n",
       "      <td>-2</td>\n",
       "    </tr>\n",
       "    <tr>\n",
       "      <th>row 2</th>\n",
       "      <td>c</td>\n",
       "      <td>8</td>\n",
       "      <td>-4</td>\n",
       "    </tr>\n",
       "  </tbody>\n",
       "</table>\n",
       "</div>"
      ],
      "text/plain": [
       "      col 1  col 2  diff\n",
       "row 1     a      5    -2\n",
       "row 2     c      8    -4"
      ]
     },
     "execution_count": 36,
     "metadata": {},
     "output_type": "execute_result"
    }
   ],
   "source": [
    "df2"
   ]
  },
  {
   "cell_type": "markdown",
   "metadata": {},
   "source": [
    "## Write to Excel"
   ]
  },
  {
   "cell_type": "code",
   "execution_count": 21,
   "metadata": {},
   "outputs": [],
   "source": [
    "df1.to_excel(\"output.xlsx\",sheet_name='Sheet_name_1')"
   ]
  },
  {
   "cell_type": "markdown",
   "metadata": {},
   "source": [
    "## Write to another sheet in excel"
   ]
  },
  {
   "cell_type": "code",
   "execution_count": 7,
   "metadata": {},
   "outputs": [],
   "source": [
    "df2 = df1.copy()\n",
    "with pd.ExcelWriter('output.xlsx') as writer:  \n",
    "    df1.to_excel(writer, sheet_name='Sheet_name_1')\n",
    "    df2.to_excel(writer, sheet_name='Sheet_name_2')"
   ]
  },
  {
   "cell_type": "code",
   "execution_count": 10,
   "metadata": {},
   "outputs": [],
   "source": [
    "with pd.ExcelWriter('output.xlsx',\n",
    "                    mode='a') as writer:df1.to_excel(writer, sheet_name='Sheet_name_1')"
   ]
  },
  {
   "cell_type": "markdown",
   "metadata": {},
   "source": [
    "pandas.DataFrame.to_excel\n",
    "DataFrame.to_excel(excel_writer, sheet_name='Sheet1', na_rep='', float_format=None, columns=None, header=True, index=True, index_label=None, startrow=0, startcol=0, engine=None, merge_cells=True, encoding=None, inf_rep='inf', verbose=True, freeze_panes=None)[source]\n",
    "Write object to an Excel sheet.\n",
    "\n",
    "To write a single object to an Excel .xlsx file it is only necessary to specify a target file name. To write to multiple sheets it is necessary to create an ExcelWriter object with a target file name, and specify a sheet in the file to write to.\n",
    "\n",
    "Multiple sheets may be written to by specifying unique sheet_name. With all data written to the file it is necessary to save the changes. Note that creating an ExcelWriter object with a file name that already exists will result in the contents of the existing file being erased."
   ]
  },
  {
   "cell_type": "markdown",
   "metadata": {},
   "source": [
    "### Various Option"
   ]
  },
  {
   "cell_type": "markdown",
   "metadata": {},
   "source": [
    "### Parameters : excel_writerstr or ExcelWriter object\n",
    "File path or existing ExcelWriter.\n",
    "\n",
    "### sheet_name : str, default ‘Sheet1’\n",
    "Name of sheet which will contain DataFrame.\n",
    "\n",
    "### na_rep : str, default ‘’\n",
    "Missing data representation.\n",
    "\n",
    "### float_format  str, optional\n",
    "Format string for floating point numbers. For example float_format=\"%.2f\" will format 0.1234 to 0.12.\n",
    "\n",
    "### columns : sequence or list of str, optional\n",
    "Columns to write.\n",
    "\n",
    "### header : bool or list of str, default True\n",
    "Write out the column names. If a list of string is given it is assumed to be aliases for the column names.\n",
    "\n",
    "### index : bool, default True\n",
    "Write row names (index).\n",
    "\n",
    "### index_label str or sequence, optional\n",
    "Column label for index column(s) if desired. If not specified, and header and index are True, then the index names are used. A sequence should be given if the DataFrame uses MultiIndex.\n",
    "\n",
    "### startrow : int, default 0\n",
    "Upper left cell row to dump data frame.\n",
    "\n",
    "startcolint, default 0\n",
    "Upper left cell column to dump data frame.\n",
    "\n",
    "enginestr, optional\n",
    "Write engine to use, ‘openpyxl’ or ‘xlsxwriter’. You can also set this via the options io.excel.xlsx.writer, io.excel.xls.writer, and io.excel.xlsm.writer.\n",
    "\n",
    "merge_cellsbool, default True\n",
    "Write MultiIndex and Hierarchical Rows as merged cells.\n",
    "\n",
    "encodingstr, optional\n",
    "Encoding of the resulting excel file. Only necessary for xlwt, other writers support unicode natively.\n",
    "\n",
    "inf_repstr, default ‘inf’\n",
    "Representation for infinity (there is no native representation for infinity in Excel).\n",
    "\n",
    "verbosebool, default True\n",
    "Display more information in the error logs.\n",
    "\n",
    "freeze_panestuple of int (length 2), optional\n",
    "Specifies the one-based bottommost row and rightmost column that is to be frozen."
   ]
  },
  {
   "cell_type": "markdown",
   "metadata": {},
   "source": [
    "https://pandas.pydata.org/docs/reference/api/pandas.DataFrame.to_excel.html"
   ]
  },
  {
   "cell_type": "markdown",
   "metadata": {},
   "source": [
    "# Working with csv"
   ]
  },
  {
   "cell_type": "code",
   "execution_count": 12,
   "metadata": {},
   "outputs": [],
   "source": [
    "df = pd.DataFrame({'name': ['Raphael', 'Donatello'],\n",
    "                   'mask': ['red', 'purple'],\n",
    "                   'weapon': ['sai', 'bo staff']})"
   ]
  },
  {
   "cell_type": "code",
   "execution_count": 14,
   "metadata": {},
   "outputs": [
    {
     "data": {
      "text/html": [
       "<div>\n",
       "<style scoped>\n",
       "    .dataframe tbody tr th:only-of-type {\n",
       "        vertical-align: middle;\n",
       "    }\n",
       "\n",
       "    .dataframe tbody tr th {\n",
       "        vertical-align: top;\n",
       "    }\n",
       "\n",
       "    .dataframe thead th {\n",
       "        text-align: right;\n",
       "    }\n",
       "</style>\n",
       "<table border=\"1\" class=\"dataframe\">\n",
       "  <thead>\n",
       "    <tr style=\"text-align: right;\">\n",
       "      <th></th>\n",
       "      <th>name</th>\n",
       "      <th>mask</th>\n",
       "      <th>weapon</th>\n",
       "    </tr>\n",
       "  </thead>\n",
       "  <tbody>\n",
       "    <tr>\n",
       "      <th>0</th>\n",
       "      <td>Raphael</td>\n",
       "      <td>red</td>\n",
       "      <td>sai</td>\n",
       "    </tr>\n",
       "    <tr>\n",
       "      <th>1</th>\n",
       "      <td>Donatello</td>\n",
       "      <td>purple</td>\n",
       "      <td>bo staff</td>\n",
       "    </tr>\n",
       "  </tbody>\n",
       "</table>\n",
       "</div>"
      ],
      "text/plain": [
       "        name    mask    weapon\n",
       "0    Raphael     red       sai\n",
       "1  Donatello  purple  bo staff"
      ]
     },
     "execution_count": 14,
     "metadata": {},
     "output_type": "execute_result"
    }
   ],
   "source": [
    "df"
   ]
  },
  {
   "cell_type": "code",
   "execution_count": 18,
   "metadata": {},
   "outputs": [],
   "source": [
    "df.to_csv('dfcsv.csv',index=False)"
   ]
  },
  {
   "cell_type": "code",
   "execution_count": 16,
   "metadata": {},
   "outputs": [
    {
     "data": {
      "text/plain": [
       "'name,mask,weapon\\r\\nRaphael,red,sai\\r\\nDonatello,purple,bo staff\\r\\n'"
      ]
     },
     "execution_count": 16,
     "metadata": {},
     "output_type": "execute_result"
    }
   ],
   "source": [
    "df.to_csv(index=False)"
   ]
  },
  {
   "cell_type": "markdown",
   "metadata": {},
   "source": [
    "## Create ‘out.zip’ containing ‘out.csv’"
   ]
  },
  {
   "cell_type": "code",
   "execution_count": 19,
   "metadata": {},
   "outputs": [],
   "source": [
    "compression_opts = dict(method='zip',\n",
    "                        archive_name='out.csv')  \n",
    "df.to_csv('out.zip', index=False,\n",
    "          compression=compression_opts)"
   ]
  },
  {
   "cell_type": "markdown",
   "metadata": {},
   "source": [
    "### DataFrame.to_csv(path_or_buf=None, sep=',', na_rep='', float_format=None, columns=None, header=True, index=True, index_label=None, mode='w', encoding=None, compression='infer', quoting=None, quotechar='\"', line_terminator=None, chunksize=None, date_format=None, doublequote=True, escapechar=None, decimal='.', errors='strict')"
   ]
  },
  {
   "cell_type": "markdown",
   "metadata": {},
   "source": [
    "https://pandas.pydata.org/docs/reference/api/pandas.DataFrame.to_csv.html#pandas.DataFrame.to_csv\n",
    "\n",
    "### Parameters path_or_bufstr or file handle, default None\n",
    "File path or object, if None is provided the result is returned as a string. If a file object is passed it should be opened with newline=’’, disabling universal newlines.\n",
    "\n",
    "Changed in version 0.24.0: Was previously named “path” for Series.\n",
    "\n",
    "### sep : str, default ‘,’\n",
    "String of length 1. Field delimiter for the output file.\n",
    "\n",
    "### na_rep : str, default ‘’\n",
    "Missing data representation.\n",
    "\n",
    "### float_format : str, default None\n",
    "Format string for floating point numbers.\n",
    "\n",
    "### columns : sequence, optional\n",
    "Columns to write.\n",
    "\n",
    "### header : bool or list of str, default True\n",
    "Write out the column names. If a list of strings is given it is assumed to be aliases for the column names.\n",
    "\n",
    "Changed in version 0.24.0: Previously defaulted to False for Series.\n",
    "\n",
    "### index : bool, default True\n",
    "Write row names (index).\n",
    "\n",
    "### index_label : str or sequence, or False, default None\n",
    "Column label for index column(s) if desired. If None is given, and header and index are True, then the index names are used. A sequence should be given if the object uses MultiIndex. If False do not print fields for index names. Use index_label=False for easier importing in R.\n",
    "\n",
    "### mode : str\n",
    "Python write mode, default ‘w’.\n",
    "\n",
    "### encoding : str, optional\n",
    "A string representing the encoding to use in the output file, defaults to ‘utf-8’.\n",
    "\n",
    "### compression : str or dict, default ‘infer’\n",
    "If str, represents compression mode. If dict, value at ‘method’ is the compression mode. Compression mode may be any of the following possible values: {‘infer’, ‘gzip’, ‘bz2’, ‘zip’, ‘xz’, None}. If compression mode is ‘infer’ and path_or_buf is path-like, then detect compression mode from the following extensions: ‘.gz’, ‘.bz2’, ‘.zip’ or ‘.xz’. (otherwise no compression). If dict given and mode is one of {‘zip’, ‘gzip’, ‘bz2’}, or inferred as one of the above, other entries passed as additional compression options.\n",
    "\n",
    "Changed in version 1.0.0: May now be a dict with key ‘method’ as compression mode and other entries as additional compression options if compression mode is ‘zip’.\n",
    "\n",
    "Changed in version 1.1.0: Passing compression options as keys in dict is supported for compression modes ‘gzip’ and ‘bz2’ as well as ‘zip’.\n",
    "\n",
    "quotingoptional constant from csv module\n",
    "Defaults to csv.QUOTE_MINIMAL. If you have set a float_format then floats are converted to strings and thus csv.QUOTE_NONNUMERIC will treat them as non-numeric.\n",
    "\n",
    "quotecharstr, default ‘\"’\n",
    "String of length 1. Character used to quote fields.\n",
    "\n",
    "line_terminatorstr, optional\n",
    "The newline character or character sequence to use in the output file. Defaults to os.linesep, which depends on the OS in which this method is called (‘n’ for linux, ‘rn’ for Windows, i.e.).\n",
    "\n",
    "Changed in version 0.24.0.\n",
    "\n",
    "chunksizeint or None\n",
    "Rows to write at a time.\n",
    "\n",
    "date_formatstr, default None\n",
    "Format string for datetime objects.\n",
    "\n",
    "doublequotebool, default True\n",
    "Control quoting of quotechar inside a field.\n",
    "\n",
    "escapecharstr, default None\n",
    "String of length 1. Character used to escape sep and quotechar when appropriate.\n",
    "\n",
    "decimalstr, default ‘.’\n",
    "Character recognized as decimal separator. E.g. use ‘,’ for European data.\n",
    "\n",
    "errorsstr, default ‘strict’\n",
    "Specifies how encoding and decoding errors are to be handled. See the errors argument for open() for a full list of options.\n",
    "\n",
    "New in version 1.1.0.\n",
    "\n",
    "Returns\n",
    "None or str\n",
    "If path_or_buf is None, returns the resulting csv format as a string. Otherwise returns None."
   ]
  },
  {
   "cell_type": "code",
   "execution_count": null,
   "metadata": {},
   "outputs": [],
   "source": []
  }
 ],
 "metadata": {
  "kernelspec": {
   "display_name": "Python 3",
   "language": "python",
   "name": "python3"
  },
  "language_info": {
   "codemirror_mode": {
    "name": "ipython",
    "version": 3
   },
   "file_extension": ".py",
   "mimetype": "text/x-python",
   "name": "python",
   "nbconvert_exporter": "python",
   "pygments_lexer": "ipython3",
   "version": "3.7.4"
  }
 },
 "nbformat": 4,
 "nbformat_minor": 4
}
