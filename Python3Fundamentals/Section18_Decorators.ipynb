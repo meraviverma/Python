{
 "cells": [
  {
   "cell_type": "code",
   "execution_count": 1,
   "id": "7ca971fd",
   "metadata": {},
   "outputs": [],
   "source": [
    "#fn is a free variable, from outer scope\n",
    "def outer(fn):\n",
    "    def inner():\n",
    "        print(f'calling {fn}...')\n",
    "        result=fn()\n",
    "        return result\n",
    "    return inner"
   ]
  },
  {
   "cell_type": "code",
   "execution_count": 2,
   "id": "b9e48b2c",
   "metadata": {},
   "outputs": [],
   "source": [
    "def hello():\n",
    "    return 'Hello'"
   ]
  },
  {
   "cell_type": "code",
   "execution_count": 3,
   "id": "2b48a35c",
   "metadata": {},
   "outputs": [],
   "source": [
    "f=outer(hello)"
   ]
  },
  {
   "cell_type": "code",
   "execution_count": 4,
   "id": "59c802f7",
   "metadata": {},
   "outputs": [
    {
     "name": "stdout",
     "output_type": "stream",
     "text": [
      "calling <function hello at 0x0000021FEA067E20>...\n"
     ]
    },
    {
     "data": {
      "text/plain": [
       "'Hello'"
      ]
     },
     "execution_count": 4,
     "metadata": {},
     "output_type": "execute_result"
    }
   ],
   "source": [
    "f()"
   ]
  },
  {
   "cell_type": "markdown",
   "id": "f06fd2d0",
   "metadata": {},
   "source": [
    "# Example2"
   ]
  },
  {
   "cell_type": "code",
   "execution_count": 5,
   "id": "e0b37843",
   "metadata": {},
   "outputs": [],
   "source": [
    "def log(fn):\n",
    "    def inner(*args,**kwargs):\n",
    "        print(f'calling {fn}...')\n",
    "        result=fn(*args,**kwargs)\n",
    "        return result\n",
    "    return inner"
   ]
  },
  {
   "cell_type": "code",
   "execution_count": 6,
   "id": "daad9cff",
   "metadata": {},
   "outputs": [],
   "source": [
    "def add(x,y):\n",
    "    return x+y"
   ]
  },
  {
   "cell_type": "code",
   "execution_count": 7,
   "id": "5c76dce8",
   "metadata": {},
   "outputs": [],
   "source": [
    "def greet(name):\n",
    "    return f'Hello {name}'"
   ]
  },
  {
   "cell_type": "code",
   "execution_count": 8,
   "id": "c685d0f1",
   "metadata": {},
   "outputs": [],
   "source": [
    "add_logged=log(add)"
   ]
  },
  {
   "cell_type": "code",
   "execution_count": 9,
   "id": "17a4fbf8",
   "metadata": {},
   "outputs": [],
   "source": [
    "greet_logged=log(greet)"
   ]
  },
  {
   "cell_type": "code",
   "execution_count": 10,
   "id": "307a439f",
   "metadata": {},
   "outputs": [
    {
     "name": "stdout",
     "output_type": "stream",
     "text": [
      "calling <function add at 0x0000021FEA0F8C10>...\n"
     ]
    },
    {
     "data": {
      "text/plain": [
       "5"
      ]
     },
     "execution_count": 10,
     "metadata": {},
     "output_type": "execute_result"
    }
   ],
   "source": [
    "add_logged(2,3)"
   ]
  },
  {
   "cell_type": "code",
   "execution_count": 11,
   "id": "11f2437c",
   "metadata": {},
   "outputs": [
    {
     "name": "stdout",
     "output_type": "stream",
     "text": [
      "calling <function greet at 0x0000021FEA0F8EE0>...\n"
     ]
    },
    {
     "data": {
      "text/plain": [
       "'Hello Ravi'"
      ]
     },
     "execution_count": 11,
     "metadata": {},
     "output_type": "execute_result"
    }
   ],
   "source": [
    "greet_logged('Ravi')"
   ]
  },
  {
   "cell_type": "code",
   "execution_count": 12,
   "id": "7a85b803",
   "metadata": {},
   "outputs": [],
   "source": [
    "#The symbol add now points to the new function(not the original add)\n",
    "#This will calll the original function object\n",
    "add=log(add)"
   ]
  },
  {
   "cell_type": "code",
   "execution_count": 13,
   "id": "f1dcd499",
   "metadata": {},
   "outputs": [
    {
     "name": "stdout",
     "output_type": "stream",
     "text": [
      "calling <function add at 0x0000021FEA0F8C10>...\n"
     ]
    },
    {
     "data": {
      "text/plain": [
       "3"
      ]
     },
     "execution_count": 13,
     "metadata": {},
     "output_type": "execute_result"
    }
   ],
   "source": [
    "add(1,2)"
   ]
  },
  {
   "cell_type": "code",
   "execution_count": 14,
   "id": "07a2f300",
   "metadata": {},
   "outputs": [],
   "source": [
    "#over here log is called the wrapper and add is called decorated\n",
    "#this is so common this pattern has sort hand notation @wrapper"
   ]
  },
  {
   "cell_type": "markdown",
   "id": "5fe6cd6b",
   "metadata": {},
   "source": [
    "# Example 3"
   ]
  },
  {
   "cell_type": "code",
   "execution_count": 15,
   "id": "6c3769b9",
   "metadata": {},
   "outputs": [],
   "source": [
    "def wrapper(func):\n",
    "    def inner(*args,**kwargs):\n",
    "        result=func(*args,**kwargs)\n",
    "        return result\n",
    "    return inner"
   ]
  },
  {
   "cell_type": "code",
   "execution_count": 16,
   "id": "d3ba344d",
   "metadata": {},
   "outputs": [],
   "source": [
    "def add(a,b,c):\n",
    "    return a+b+c"
   ]
  },
  {
   "cell_type": "code",
   "execution_count": 17,
   "id": "5b7a3660",
   "metadata": {},
   "outputs": [],
   "source": [
    "def greet(name):\n",
    "    return f'Hello {name}'"
   ]
  },
  {
   "cell_type": "code",
   "execution_count": 18,
   "id": "3d550a60",
   "metadata": {},
   "outputs": [],
   "source": [
    "def join(data,*,item_sep=',',line_sep='\\n'):\n",
    "    return line_sep.join(\n",
    "    [\n",
    "        item_sep.join(str(item) for item in row)\n",
    "        for row in data\n",
    "    ])"
   ]
  },
  {
   "cell_type": "code",
   "execution_count": 19,
   "id": "f43576d1",
   "metadata": {},
   "outputs": [
    {
     "data": {
      "text/plain": [
       "6"
      ]
     },
     "execution_count": 19,
     "metadata": {},
     "output_type": "execute_result"
    }
   ],
   "source": [
    "add(1,2,3)"
   ]
  },
  {
   "cell_type": "code",
   "execution_count": 20,
   "id": "0adfc2eb",
   "metadata": {},
   "outputs": [
    {
     "data": {
      "text/plain": [
       "'Hello python'"
      ]
     },
     "execution_count": 20,
     "metadata": {},
     "output_type": "execute_result"
    }
   ],
   "source": [
    "greet('python')"
   ]
  },
  {
   "cell_type": "code",
   "execution_count": 21,
   "id": "bea86424",
   "metadata": {},
   "outputs": [
    {
     "data": {
      "text/plain": [
       "'1,2,3\\n4,5,6\\n7,8,9'"
      ]
     },
     "execution_count": 21,
     "metadata": {},
     "output_type": "execute_result"
    }
   ],
   "source": [
    "join([[1,2,3],[4,5,6],[7,8,9]])"
   ]
  },
  {
   "cell_type": "code",
   "execution_count": 22,
   "id": "ba9dfd5d",
   "metadata": {},
   "outputs": [],
   "source": [
    "add_wrapped=wrapper(add)"
   ]
  },
  {
   "cell_type": "code",
   "execution_count": 23,
   "id": "cea20fc8",
   "metadata": {},
   "outputs": [],
   "source": [
    "greet_wrapped=wrapper(greet)"
   ]
  },
  {
   "cell_type": "code",
   "execution_count": 24,
   "id": "ffa682f6",
   "metadata": {},
   "outputs": [],
   "source": [
    "join_wrapped=wrapper(join)"
   ]
  },
  {
   "cell_type": "code",
   "execution_count": 25,
   "id": "02245e95",
   "metadata": {},
   "outputs": [
    {
     "data": {
      "text/plain": [
       "6"
      ]
     },
     "execution_count": 25,
     "metadata": {},
     "output_type": "execute_result"
    }
   ],
   "source": [
    "add_wrapped(1,2,3)"
   ]
  },
  {
   "cell_type": "code",
   "execution_count": 26,
   "id": "abc726ca",
   "metadata": {},
   "outputs": [
    {
     "data": {
      "text/plain": [
       "'Hello Python'"
      ]
     },
     "execution_count": 26,
     "metadata": {},
     "output_type": "execute_result"
    }
   ],
   "source": [
    "greet_wrapped('Python')"
   ]
  },
  {
   "cell_type": "code",
   "execution_count": 27,
   "id": "c07d43ac",
   "metadata": {},
   "outputs": [
    {
     "data": {
      "text/plain": [
       "'1,2,3\\n4,5,6\\n7,8,9'"
      ]
     },
     "execution_count": 27,
     "metadata": {},
     "output_type": "execute_result"
    }
   ],
   "source": [
    "join_wrapped([[1,2,3],[4,5,6],[7,8,9]])"
   ]
  },
  {
   "cell_type": "markdown",
   "id": "16879ed7",
   "metadata": {},
   "source": [
    "# Example 4"
   ]
  },
  {
   "cell_type": "code",
   "execution_count": 28,
   "id": "670e703c",
   "metadata": {},
   "outputs": [],
   "source": [
    "def log(func):\n",
    "    def inner(*args,**kwargs):\n",
    "        result=func(*args,**kwargs)\n",
    "        print(f'{func.__name__} called... result={result}')\n",
    "        return result\n",
    "    return inner"
   ]
  },
  {
   "cell_type": "code",
   "execution_count": 29,
   "id": "fb81cb24",
   "metadata": {},
   "outputs": [],
   "source": [
    "add_logged=log(add)"
   ]
  },
  {
   "cell_type": "code",
   "execution_count": 30,
   "id": "f2a332e5",
   "metadata": {},
   "outputs": [],
   "source": [
    "greet_logged=log(greet)"
   ]
  },
  {
   "cell_type": "code",
   "execution_count": 31,
   "id": "0233984e",
   "metadata": {},
   "outputs": [],
   "source": [
    "join_greet=log(join)"
   ]
  },
  {
   "cell_type": "code",
   "execution_count": 32,
   "id": "dd831f2c",
   "metadata": {},
   "outputs": [
    {
     "name": "stdout",
     "output_type": "stream",
     "text": [
      "add called... result=6\n"
     ]
    },
    {
     "data": {
      "text/plain": [
       "6"
      ]
     },
     "execution_count": 32,
     "metadata": {},
     "output_type": "execute_result"
    }
   ],
   "source": [
    "add_logged(1,2,3)"
   ]
  },
  {
   "cell_type": "code",
   "execution_count": 33,
   "id": "f2dbc8b4",
   "metadata": {},
   "outputs": [
    {
     "name": "stdout",
     "output_type": "stream",
     "text": [
      "greet called... result=Hello Python\n"
     ]
    },
    {
     "data": {
      "text/plain": [
       "'Hello Python'"
      ]
     },
     "execution_count": 33,
     "metadata": {},
     "output_type": "execute_result"
    }
   ],
   "source": [
    "greet_logged('Python')"
   ]
  },
  {
   "cell_type": "code",
   "execution_count": 34,
   "id": "a9473ef9",
   "metadata": {},
   "outputs": [],
   "source": [
    "#how about we define the add"
   ]
  },
  {
   "cell_type": "code",
   "execution_count": 35,
   "id": "def35c68",
   "metadata": {},
   "outputs": [
    {
     "data": {
      "text/plain": [
       "2336094138384"
      ]
     },
     "execution_count": 35,
     "metadata": {},
     "output_type": "execute_result"
    }
   ],
   "source": [
    "id(add)"
   ]
  },
  {
   "cell_type": "code",
   "execution_count": 36,
   "id": "b2073f20",
   "metadata": {},
   "outputs": [],
   "source": [
    "add=log(add)"
   ]
  },
  {
   "cell_type": "code",
   "execution_count": 37,
   "id": "4f3d8d50",
   "metadata": {},
   "outputs": [
    {
     "data": {
      "text/plain": [
       "2336093534624"
      ]
     },
     "execution_count": 37,
     "metadata": {},
     "output_type": "execute_result"
    }
   ],
   "source": [
    "id(add)"
   ]
  },
  {
   "cell_type": "code",
   "execution_count": 38,
   "id": "1206854e",
   "metadata": {},
   "outputs": [
    {
     "name": "stdout",
     "output_type": "stream",
     "text": [
      "add called... result=6\n"
     ]
    },
    {
     "data": {
      "text/plain": [
       "6"
      ]
     },
     "execution_count": 38,
     "metadata": {},
     "output_type": "execute_result"
    }
   ],
   "source": [
    "add(1,2,3)"
   ]
  },
  {
   "cell_type": "markdown",
   "id": "046152a5",
   "metadata": {},
   "source": [
    "# Example 4"
   ]
  },
  {
   "cell_type": "code",
   "execution_count": 39,
   "id": "28c85d1c",
   "metadata": {},
   "outputs": [],
   "source": [
    "def add(a,b,c):\n",
    "    return a+b+c\n",
    "\n",
    "add=log(add)\n",
    "\n",
    "def greet(name):\n",
    "    return f'Hello {name}'\n",
    "\n",
    "greet=log(greet)\n",
    "\n",
    "def join(data,*,item_sep=',',line_sep='\\n'):\n",
    "    return line_sep.join(\n",
    "    [\n",
    "        item_sep.join(str(item) for item in row)\n",
    "        for row in data\n",
    "    ])\n",
    "\n",
    "join=log(join)"
   ]
  },
  {
   "cell_type": "code",
   "execution_count": 40,
   "id": "14cc17a8",
   "metadata": {},
   "outputs": [
    {
     "name": "stdout",
     "output_type": "stream",
     "text": [
      "greet called... result=Hello python\n"
     ]
    },
    {
     "data": {
      "text/plain": [
       "'Hello python'"
      ]
     },
     "execution_count": 40,
     "metadata": {},
     "output_type": "execute_result"
    }
   ],
   "source": [
    "greet('python')"
   ]
  },
  {
   "cell_type": "code",
   "execution_count": 41,
   "id": "08ef06b5",
   "metadata": {},
   "outputs": [
    {
     "name": "stdout",
     "output_type": "stream",
     "text": [
      "add called... result=6\n"
     ]
    },
    {
     "data": {
      "text/plain": [
       "6"
      ]
     },
     "execution_count": 41,
     "metadata": {},
     "output_type": "execute_result"
    }
   ],
   "source": [
    "add(1,2,3)"
   ]
  },
  {
   "cell_type": "code",
   "execution_count": 42,
   "id": "8570764f",
   "metadata": {},
   "outputs": [],
   "source": [
    "#log function is decorator"
   ]
  },
  {
   "cell_type": "code",
   "execution_count": 43,
   "id": "a06ef993",
   "metadata": {},
   "outputs": [],
   "source": [
    "@log\n",
    "def add(a,b,c):\n",
    "    return a+b+c"
   ]
  },
  {
   "cell_type": "code",
   "execution_count": 44,
   "id": "a802a229",
   "metadata": {},
   "outputs": [
    {
     "name": "stdout",
     "output_type": "stream",
     "text": [
      "add called... result=6\n"
     ]
    },
    {
     "data": {
      "text/plain": [
       "6"
      ]
     },
     "execution_count": 44,
     "metadata": {},
     "output_type": "execute_result"
    }
   ],
   "source": [
    "add(1,2,3)"
   ]
  },
  {
   "cell_type": "markdown",
   "id": "a91d365b-6e42-4049-8d7f-9ae8d7ed5218",
   "metadata": {},
   "source": [
    "# Example 5"
   ]
  },
  {
   "cell_type": "code",
   "execution_count": 45,
   "id": "2b89d16e-3492-4edc-957b-3ecb4c6f6fed",
   "metadata": {},
   "outputs": [],
   "source": [
    "def decorator(func):\n",
    "    def wrapper():\n",
    "        print(\"Something is happening before the function is called.\")\n",
    "        func()\n",
    "        print(\"Something is happening after the function is called.\")\n",
    "    return wrapper\n",
    "\n",
    "def say_whee():\n",
    "    print(\"Whee!\")\n",
    "\n",
    "say_whee = decorator(say_whee)"
   ]
  },
  {
   "cell_type": "code",
   "execution_count": 46,
   "id": "26ab9165-e927-4b70-82f5-015d9f7c09c5",
   "metadata": {},
   "outputs": [
    {
     "name": "stdout",
     "output_type": "stream",
     "text": [
      "Something is happening before the function is called.\n",
      "Whee!\n",
      "Something is happening after the function is called.\n"
     ]
    }
   ],
   "source": [
    "say_whee()"
   ]
  },
  {
   "cell_type": "code",
   "execution_count": null,
   "id": "ba282609-6e54-4b81-87b2-953d4d0a907c",
   "metadata": {},
   "outputs": [],
   "source": []
  }
 ],
 "metadata": {
  "kernelspec": {
   "display_name": "Python 3 (ipykernel)",
   "language": "python",
   "name": "python3"
  },
  "language_info": {
   "codemirror_mode": {
    "name": "ipython",
    "version": 3
   },
   "file_extension": ".py",
   "mimetype": "text/x-python",
   "name": "python",
   "nbconvert_exporter": "python",
   "pygments_lexer": "ipython3",
   "version": "3.10.0"
  }
 },
 "nbformat": 4,
 "nbformat_minor": 5
}
