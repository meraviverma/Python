{
 "cells": [
  {
   "cell_type": "code",
   "execution_count": 9,
   "id": "7ca971fd",
   "metadata": {},
   "outputs": [],
   "source": [
    "#fn is a free variable, from outer scope\n",
    "def outer(fn):\n",
    "    def inner():\n",
    "        print(f'calling {fn}...')\n",
    "        result=fn()\n",
    "        return result\n",
    "    return inner"
   ]
  },
  {
   "cell_type": "code",
   "execution_count": 10,
   "id": "b9e48b2c",
   "metadata": {},
   "outputs": [],
   "source": [
    "def hello():\n",
    "    return 'Hello'"
   ]
  },
  {
   "cell_type": "code",
   "execution_count": 11,
   "id": "2b48a35c",
   "metadata": {},
   "outputs": [],
   "source": [
    "f=outer(hello)"
   ]
  },
  {
   "cell_type": "code",
   "execution_count": 12,
   "id": "59c802f7",
   "metadata": {},
   "outputs": [
    {
     "name": "stdout",
     "output_type": "stream",
     "text": [
      "calling <function hello at 0x0000024A9BDCB6A0>...\n"
     ]
    },
    {
     "data": {
      "text/plain": [
       "'Hello'"
      ]
     },
     "execution_count": 12,
     "metadata": {},
     "output_type": "execute_result"
    }
   ],
   "source": [
    "f()"
   ]
  },
  {
   "cell_type": "markdown",
   "id": "f06fd2d0",
   "metadata": {},
   "source": [
    "# Example2"
   ]
  },
  {
   "cell_type": "code",
   "execution_count": 28,
   "id": "e0b37843",
   "metadata": {},
   "outputs": [],
   "source": [
    "def log(fn):\n",
    "    def inner(*args,**kwargs):\n",
    "        print(f'calling {fn}...')\n",
    "        result=fn(*args,**kwargs)\n",
    "        return result\n",
    "    return inner"
   ]
  },
  {
   "cell_type": "code",
   "execution_count": 29,
   "id": "daad9cff",
   "metadata": {},
   "outputs": [],
   "source": [
    "def add(x,y):\n",
    "    return x+y"
   ]
  },
  {
   "cell_type": "code",
   "execution_count": 30,
   "id": "5c76dce8",
   "metadata": {},
   "outputs": [],
   "source": [
    "def greet(name):\n",
    "    return f'Hello {name}'"
   ]
  },
  {
   "cell_type": "code",
   "execution_count": 31,
   "id": "c685d0f1",
   "metadata": {},
   "outputs": [],
   "source": [
    "add_logged=log(add)"
   ]
  },
  {
   "cell_type": "code",
   "execution_count": 32,
   "id": "17a4fbf8",
   "metadata": {},
   "outputs": [],
   "source": [
    "greet_logged=log(greet)"
   ]
  },
  {
   "cell_type": "code",
   "execution_count": 39,
   "id": "307a439f",
   "metadata": {},
   "outputs": [
    {
     "name": "stdout",
     "output_type": "stream",
     "text": [
      "calling <function add at 0x0000024A9BFE8E00>...\n"
     ]
    },
    {
     "data": {
      "text/plain": [
       "5"
      ]
     },
     "execution_count": 39,
     "metadata": {},
     "output_type": "execute_result"
    }
   ],
   "source": [
    "add_logged(2,3)"
   ]
  },
  {
   "cell_type": "code",
   "execution_count": 40,
   "id": "11f2437c",
   "metadata": {},
   "outputs": [
    {
     "name": "stdout",
     "output_type": "stream",
     "text": [
      "calling <function greet at 0x0000024A9BFE9B20>...\n"
     ]
    },
    {
     "data": {
      "text/plain": [
       "'Hello Ravi'"
      ]
     },
     "execution_count": 40,
     "metadata": {},
     "output_type": "execute_result"
    }
   ],
   "source": [
    "greet_logged('Ravi')"
   ]
  },
  {
   "cell_type": "code",
   "execution_count": 41,
   "id": "7a85b803",
   "metadata": {},
   "outputs": [],
   "source": [
    "#The symbol add now points to the new function(not the original add)\n",
    "#This will calll the original function object\n",
    "add=log(add)"
   ]
  },
  {
   "cell_type": "code",
   "execution_count": 42,
   "id": "f1dcd499",
   "metadata": {},
   "outputs": [
    {
     "name": "stdout",
     "output_type": "stream",
     "text": [
      "calling <function add at 0x0000024A9BFE8E00>...\n"
     ]
    },
    {
     "data": {
      "text/plain": [
       "3"
      ]
     },
     "execution_count": 42,
     "metadata": {},
     "output_type": "execute_result"
    }
   ],
   "source": [
    "add(1,2)"
   ]
  },
  {
   "cell_type": "code",
   "execution_count": 43,
   "id": "07a2f300",
   "metadata": {},
   "outputs": [],
   "source": [
    "#over here log is called the wrapper and add is called decorated\n",
    "#this is so common this pattern has sort hand notation @wrapper"
   ]
  },
  {
   "cell_type": "markdown",
   "id": "5fe6cd6b",
   "metadata": {},
   "source": [
    "# Example 3"
   ]
  },
  {
   "cell_type": "code",
   "execution_count": 44,
   "id": "6c3769b9",
   "metadata": {},
   "outputs": [],
   "source": [
    "def wrapper(func):\n",
    "    def inner(*args,**kwargs):\n",
    "        result=func(*args,**kwargs)\n",
    "        return result\n",
    "    return inner"
   ]
  },
  {
   "cell_type": "code",
   "execution_count": 45,
   "id": "d3ba344d",
   "metadata": {},
   "outputs": [],
   "source": [
    "def add(a,b,c):\n",
    "    return a+b+c"
   ]
  },
  {
   "cell_type": "code",
   "execution_count": 46,
   "id": "5b7a3660",
   "metadata": {},
   "outputs": [],
   "source": [
    "def greet(name):\n",
    "    return f'Hello {name}'"
   ]
  },
  {
   "cell_type": "code",
   "execution_count": 47,
   "id": "3d550a60",
   "metadata": {},
   "outputs": [],
   "source": [
    "def join(data,*,item_sep=',',line_sep='\\n'):\n",
    "    return line_sep.join(\n",
    "    [\n",
    "        item_sep.join(str(item) for item in row)\n",
    "        for row in data\n",
    "    ])"
   ]
  },
  {
   "cell_type": "code",
   "execution_count": 48,
   "id": "f43576d1",
   "metadata": {},
   "outputs": [
    {
     "data": {
      "text/plain": [
       "6"
      ]
     },
     "execution_count": 48,
     "metadata": {},
     "output_type": "execute_result"
    }
   ],
   "source": [
    "add(1,2,3)"
   ]
  },
  {
   "cell_type": "code",
   "execution_count": 49,
   "id": "0adfc2eb",
   "metadata": {},
   "outputs": [
    {
     "data": {
      "text/plain": [
       "'Hello python'"
      ]
     },
     "execution_count": 49,
     "metadata": {},
     "output_type": "execute_result"
    }
   ],
   "source": [
    "greet('python')"
   ]
  },
  {
   "cell_type": "code",
   "execution_count": 51,
   "id": "bea86424",
   "metadata": {},
   "outputs": [
    {
     "data": {
      "text/plain": [
       "'1,2,3\\n4,5,6\\n7,8,9'"
      ]
     },
     "execution_count": 51,
     "metadata": {},
     "output_type": "execute_result"
    }
   ],
   "source": [
    "join([[1,2,3],[4,5,6],[7,8,9]])"
   ]
  },
  {
   "cell_type": "code",
   "execution_count": 61,
   "id": "ba9dfd5d",
   "metadata": {},
   "outputs": [],
   "source": [
    "add_wrapped=wrapper(add)"
   ]
  },
  {
   "cell_type": "code",
   "execution_count": 62,
   "id": "cea20fc8",
   "metadata": {},
   "outputs": [],
   "source": [
    "greet_wrapped=wrapper(greet)"
   ]
  },
  {
   "cell_type": "code",
   "execution_count": 63,
   "id": "ffa682f6",
   "metadata": {},
   "outputs": [],
   "source": [
    "join_wrapped=wrapper(join)"
   ]
  },
  {
   "cell_type": "code",
   "execution_count": 64,
   "id": "02245e95",
   "metadata": {},
   "outputs": [
    {
     "data": {
      "text/plain": [
       "6"
      ]
     },
     "execution_count": 64,
     "metadata": {},
     "output_type": "execute_result"
    }
   ],
   "source": [
    "add_wrapped(1,2,3)"
   ]
  },
  {
   "cell_type": "code",
   "execution_count": 65,
   "id": "abc726ca",
   "metadata": {},
   "outputs": [
    {
     "data": {
      "text/plain": [
       "'Hello Python'"
      ]
     },
     "execution_count": 65,
     "metadata": {},
     "output_type": "execute_result"
    }
   ],
   "source": [
    "greet_wrapped('Python')"
   ]
  },
  {
   "cell_type": "code",
   "execution_count": 66,
   "id": "c07d43ac",
   "metadata": {},
   "outputs": [
    {
     "data": {
      "text/plain": [
       "'1,2,3\\n4,5,6\\n7,8,9'"
      ]
     },
     "execution_count": 66,
     "metadata": {},
     "output_type": "execute_result"
    }
   ],
   "source": [
    "join_wrapped([[1,2,3],[4,5,6],[7,8,9]])"
   ]
  },
  {
   "cell_type": "markdown",
   "id": "16879ed7",
   "metadata": {},
   "source": [
    "# Example 4"
   ]
  },
  {
   "cell_type": "code",
   "execution_count": 67,
   "id": "670e703c",
   "metadata": {},
   "outputs": [],
   "source": [
    "def log(func):\n",
    "    def inner(*args,**kwargs):\n",
    "        result=func(*args,**kwargs)\n",
    "        print(f'{func.__name__} called... result={result}')\n",
    "        return result\n",
    "    return inner"
   ]
  },
  {
   "cell_type": "code",
   "execution_count": 69,
   "id": "fb81cb24",
   "metadata": {},
   "outputs": [],
   "source": [
    "add_logged=log(add)"
   ]
  },
  {
   "cell_type": "code",
   "execution_count": 70,
   "id": "f2a332e5",
   "metadata": {},
   "outputs": [],
   "source": [
    "greet_logged=log(greet)"
   ]
  },
  {
   "cell_type": "code",
   "execution_count": 71,
   "id": "0233984e",
   "metadata": {},
   "outputs": [],
   "source": [
    "join_greet=log(join)"
   ]
  },
  {
   "cell_type": "code",
   "execution_count": 72,
   "id": "dd831f2c",
   "metadata": {},
   "outputs": [
    {
     "name": "stdout",
     "output_type": "stream",
     "text": [
      "add called... result=6\n"
     ]
    },
    {
     "data": {
      "text/plain": [
       "6"
      ]
     },
     "execution_count": 72,
     "metadata": {},
     "output_type": "execute_result"
    }
   ],
   "source": [
    "add_logged(1,2,3)"
   ]
  },
  {
   "cell_type": "code",
   "execution_count": 73,
   "id": "f2dbc8b4",
   "metadata": {},
   "outputs": [
    {
     "name": "stdout",
     "output_type": "stream",
     "text": [
      "greet called... result=Hello Python\n"
     ]
    },
    {
     "data": {
      "text/plain": [
       "'Hello Python'"
      ]
     },
     "execution_count": 73,
     "metadata": {},
     "output_type": "execute_result"
    }
   ],
   "source": [
    "greet_logged('Python')"
   ]
  },
  {
   "cell_type": "code",
   "execution_count": 74,
   "id": "a9473ef9",
   "metadata": {},
   "outputs": [],
   "source": [
    "#how about we define the add"
   ]
  },
  {
   "cell_type": "code",
   "execution_count": 75,
   "id": "def35c68",
   "metadata": {},
   "outputs": [
    {
     "data": {
      "text/plain": [
       "2519467992512"
      ]
     },
     "execution_count": 75,
     "metadata": {},
     "output_type": "execute_result"
    }
   ],
   "source": [
    "id(add)"
   ]
  },
  {
   "cell_type": "code",
   "execution_count": 77,
   "id": "b2073f20",
   "metadata": {},
   "outputs": [],
   "source": [
    "add=log(add)"
   ]
  },
  {
   "cell_type": "code",
   "execution_count": 78,
   "id": "4f3d8d50",
   "metadata": {},
   "outputs": [
    {
     "data": {
      "text/plain": [
       "2519467996672"
      ]
     },
     "execution_count": 78,
     "metadata": {},
     "output_type": "execute_result"
    }
   ],
   "source": [
    "id(add)"
   ]
  },
  {
   "cell_type": "code",
   "execution_count": 79,
   "id": "1206854e",
   "metadata": {},
   "outputs": [
    {
     "name": "stdout",
     "output_type": "stream",
     "text": [
      "add called... result=6\n"
     ]
    },
    {
     "data": {
      "text/plain": [
       "6"
      ]
     },
     "execution_count": 79,
     "metadata": {},
     "output_type": "execute_result"
    }
   ],
   "source": [
    "add(1,2,3)"
   ]
  },
  {
   "cell_type": "markdown",
   "id": "046152a5",
   "metadata": {},
   "source": [
    "# Example 4"
   ]
  },
  {
   "cell_type": "code",
   "execution_count": 81,
   "id": "28c85d1c",
   "metadata": {},
   "outputs": [],
   "source": [
    "def add(a,b,c):\n",
    "    return a+b+c\n",
    "\n",
    "add=log(add)\n",
    "\n",
    "def greet(name):\n",
    "    return f'Hello {name}'\n",
    "\n",
    "greet=log(greet)\n",
    "\n",
    "def join(data,*,item_sep=',',line_sep='\\n'):\n",
    "    return line_sep.join(\n",
    "    [\n",
    "        item_sep.join(str(item) for item in row)\n",
    "        for row in data\n",
    "    ])\n",
    "\n",
    "join=log(join)"
   ]
  },
  {
   "cell_type": "code",
   "execution_count": 82,
   "id": "14cc17a8",
   "metadata": {},
   "outputs": [
    {
     "name": "stdout",
     "output_type": "stream",
     "text": [
      "greet called... result=Hello python\n"
     ]
    },
    {
     "data": {
      "text/plain": [
       "'Hello python'"
      ]
     },
     "execution_count": 82,
     "metadata": {},
     "output_type": "execute_result"
    }
   ],
   "source": [
    "greet('python')"
   ]
  },
  {
   "cell_type": "code",
   "execution_count": 83,
   "id": "08ef06b5",
   "metadata": {},
   "outputs": [
    {
     "name": "stdout",
     "output_type": "stream",
     "text": [
      "add called... result=6\n"
     ]
    },
    {
     "data": {
      "text/plain": [
       "6"
      ]
     },
     "execution_count": 83,
     "metadata": {},
     "output_type": "execute_result"
    }
   ],
   "source": [
    "add(1,2,3)"
   ]
  },
  {
   "cell_type": "code",
   "execution_count": 84,
   "id": "8570764f",
   "metadata": {},
   "outputs": [],
   "source": [
    "#log function is decorator"
   ]
  },
  {
   "cell_type": "code",
   "execution_count": 85,
   "id": "a06ef993",
   "metadata": {},
   "outputs": [],
   "source": [
    "@log\n",
    "def add(a,b,c):\n",
    "    return a+b+c"
   ]
  },
  {
   "cell_type": "code",
   "execution_count": 86,
   "id": "a802a229",
   "metadata": {},
   "outputs": [
    {
     "name": "stdout",
     "output_type": "stream",
     "text": [
      "add called... result=6\n"
     ]
    },
    {
     "data": {
      "text/plain": [
       "6"
      ]
     },
     "execution_count": 86,
     "metadata": {},
     "output_type": "execute_result"
    }
   ],
   "source": [
    "add(1,2,3)"
   ]
  },
  {
   "cell_type": "code",
   "execution_count": null,
   "id": "a280d4e2",
   "metadata": {},
   "outputs": [],
   "source": []
  }
 ],
 "metadata": {
  "kernelspec": {
   "display_name": "Python 3 (ipykernel)",
   "language": "python",
   "name": "python3"
  },
  "language_info": {
   "codemirror_mode": {
    "name": "ipython",
    "version": 3
   },
   "file_extension": ".py",
   "mimetype": "text/x-python",
   "name": "python",
   "nbconvert_exporter": "python",
   "pygments_lexer": "ipython3",
   "version": "3.11.5"
  }
 },
 "nbformat": 4,
 "nbformat_minor": 5
}
